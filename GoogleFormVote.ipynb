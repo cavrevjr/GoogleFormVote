{
 "cells": [
  {
   "cell_type": "code",
   "execution_count": 1,
   "id": "47f321b5",
   "metadata": {},
   "outputs": [
    {
     "data": {
      "text/plain": [
       "Every 3 minutes do voto() (last run: [never], next run: 2022-02-09 16:22:04)"
      ]
     },
     "execution_count": 1,
     "metadata": {},
     "output_type": "execute_result"
    }
   ],
   "source": [
    "from pyotp import *\n",
    "from selenium import webdriver\n",
    "from selenium.webdriver.support.ui import WebDriverWait\n",
    "from selenium.webdriver.support import expected_conditions as EC\n",
    "from selenium.webdriver.common.by import By\n",
    "import selenium.webdriver.support.ui as ui\n",
    "from selenium.webdriver.common.keys import Keys\n",
    "from time import sleep    \n",
    "import schedule\n",
    "import time\n",
    "from selenium.webdriver.support.ui import WebDriverWait\n",
    "from selenium.webdriver.common.by import By\n",
    "from selenium.webdriver.support import expected_conditions as EC\n",
    "\n",
    "\n",
    "#para abrir o form\n",
    "url = 'googl_form_URL'\n",
    "driver = webdriver.Chrome('C:\\chormedriver\\chromedriver.exe')\n",
    "driver.get(url)\n",
    "driver.implicitly_wait(60)\n",
    "driver.implicitly_wait(60)\n",
    "def voto(): #select the vote option\n",
    "    driver.implicitly_wait(60)\n",
    "    driver.find_element_by_xpath('//*[@id=\"i27\"]').click() #select checkbox\n",
    "    driver.find_element_by_xpath('//*[@id=\"mG61Hd\"]/div[2]/div/div[3]/div/div[1]/div/span').click()#sendButton\n",
    "    driver.find_element_by_xpath('/html/body/div[1]/div[2]/div[1]/div/div[4]/a').click()#vote again\n",
    "    driver.implicitly_wait(60)\n",
    "voto()\n",
    "schedule.every(3).minutes.do(voto) #automatic start again\n",
    "\n",
    "\n",
    "\n"
   ]
  },
  {
   "cell_type": "code",
   "execution_count": null,
   "id": "eae941eb",
   "metadata": {},
   "outputs": [],
   "source": []
  },
  {
   "cell_type": "code",
   "execution_count": null,
   "id": "7ba029d5",
   "metadata": {},
   "outputs": [],
   "source": []
  },
  {
   "cell_type": "code",
   "execution_count": null,
   "id": "ddfb2786",
   "metadata": {},
   "outputs": [],
   "source": []
  }
 ],
 "metadata": {
  "kernelspec": {
   "display_name": "Python 3",
   "language": "python",
   "name": "python3"
  },
  "language_info": {
   "codemirror_mode": {
    "name": "ipython",
    "version": 3
   },
   "file_extension": ".py",
   "mimetype": "text/x-python",
   "name": "python",
   "nbconvert_exporter": "python",
   "pygments_lexer": "ipython3",
   "version": "3.8.8"
  }
 },
 "nbformat": 4,
 "nbformat_minor": 5
}
